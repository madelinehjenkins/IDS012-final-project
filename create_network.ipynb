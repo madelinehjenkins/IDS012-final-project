{
 "cells": [
  {
   "cell_type": "code",
   "execution_count": 62,
   "metadata": {
    "collapsed": false
   },
   "outputs": [],
   "source": [
    "import pandas as pd\n",
    "import numpy as np\n",
    "import itertools\n",
    "import networkx as nx\n",
    "import sqlite3\n",
    "import matplotlib.pyplot as plt\n",
    "%matplotlib inline"
   ]
  },
  {
   "cell_type": "code",
   "execution_count": 2,
   "metadata": {
    "collapsed": true
   },
   "outputs": [],
   "source": [
    "\n",
    "votes_yes_1990 = pd.read_csv(\"1990_yes_votes.csv\")\n"
   ]
  },
  {
   "cell_type": "code",
   "execution_count": 13,
   "metadata": {
    "collapsed": true
   },
   "outputs": [],
   "source": [
    "# Given list of people who voted \"yes\" for each bill in each year, generate dictionary for each year:\n",
    "#   params: \n",
    "#       * vote_history -- a pandas df with cols \"bill_number, display_name, first_name, id, last_name, party, state\"\n",
    "#                         representing yes votes from a particular year\n",
    "#                         (could be an entry in the dictionary vote_yes)\n",
    "#   returns:\n",
    "#       * pairs_from_year -- a dictionary pairs_from_year such that \n",
    "#             pairs_from_year[(sen1_id, sen2_id)]= number of times senator1 & senator2 both voted \"yes\" in given year\n",
    "#             sen1_id < sen2_id\n",
    "def gen_pairs_from_vote(vote_history):\n",
    "    pairs_from_year = {}\n",
    "    for name, group in vote_history.groupby(\"bill_number\"):\n",
    "        print('anme', name,group)\n",
    "        pairs_bill = itertools.combinations(group[\"id\"], 2)\n",
    "        for pair in list(pairs_bill):\n",
    "            id1 = min(pair)\n",
    "            id2 = max(pair)\n",
    "            if (id1, id2) in pairs_from_year:\n",
    "                pairs_from_year[(id1, id2)] += 1\n",
    "            else:\n",
    "                pairs_from_year[(id1, id2)] = 1\n",
    "    return pairs_from_year"
   ]
  },
  {
   "cell_type": "code",
   "execution_count": 56,
   "metadata": {
    "collapsed": false
   },
   "outputs": [],
   "source": [
    "# given a year and a threshold of votes to exclude, constructs a weighted graph of senator voting behavior\n",
    "#   params: \n",
    "#       year: year to make graph of\n",
    "#       votes_to_exclude: if a bill has more than threshold votes of yes, we exclude it\n",
    "#   returns:\n",
    "#       weighted graph of senate voting behavior      \n",
    "def create_graph(year, threshold):\n",
    "    csv = str(year) + '_yes_votes.csv'\n",
    "    df = pd.read_csv(csv)\n",
    "    conn = sqlite3.connect(\":memory:\")\n",
    "    df.to_sql('votes', conn, if_exists='replace', index=False)\n",
    "    \n",
    "    #selects all bills with fewer than votes_to_exclude yes votes\n",
    "    query = '''\n",
    "    SELECT * from votes\n",
    "    where bill_number in\n",
    "    (\n",
    "        SELECT bill_number FROM\n",
    "        (\n",
    "            SELECT bill_number, count(1) as num_yes\n",
    "            FROM votes\n",
    "            GROUP BY 1\n",
    "        )\n",
    "        WHERE num_yes <='''+ str(threshold)+'''\n",
    "    )\n",
    "    '''\n",
    "    df_pruned = pd.read_sql_query(query, conn)\n",
    "    df_pruned.to_sql('votes', conn, if_exists='replace', index=False)\n",
    "    query = '''\n",
    "    SELECT e1,e2,count(1)as weight from \n",
    "    (\n",
    "        Select A.display_name as e1, B.display_name as e2 \n",
    "        FROM votes A \n",
    "        JOIN votes B \n",
    "        on (A.bill_number = B.bill_number AND A.display_name != B.display_name)\n",
    "    ) \n",
    "        WHERE e1 < e2\n",
    "        GROUP BY 1,2\n",
    "    '''\n",
    "    weighted = pd.read_sql_query(query, conn)\n",
    "    return nx.from_pandas_dataframe(weighted, 'e1', 'e2', 'weight')\n",
    "    "
   ]
  },
  {
   "cell_type": "code",
   "execution_count": 57,
   "metadata": {
    "collapsed": false
   },
   "outputs": [
    {
     "name": "stderr",
     "output_type": "stream",
     "text": [
      "/Users/tonyzeng/anaconda/lib/python3.5/site-packages/pandas/core/generic.py:1165: UserWarning: The spaces in these column names will not be changed. In pandas versions < 0.14, spaces were converted to underscores.\n",
      "  chunksize=chunksize, dtype=dtype)\n"
     ]
    },
    {
     "data": {
      "text/plain": [
       "'Name: \\nType: Graph\\nNumber of nodes: 101\\nNumber of edges: 5045\\nAverage degree:  99.9010'"
      ]
     },
     "execution_count": 57,
     "metadata": {},
     "output_type": "execute_result"
    }
   ],
   "source": [
    "#example on how to use create_graph\n",
    "g1990 = create_graph(1990, 90)\n",
    "nx.info(g1990)"
   ]
  },
  {
   "cell_type": "code",
   "execution_count": 66,
   "metadata": {
    "collapsed": false
   },
   "outputs": [
    {
     "name": "stderr",
     "output_type": "stream",
     "text": [
      "/Users/tonyzeng/anaconda/lib/python3.5/site-packages/pandas/core/generic.py:1165: UserWarning: The spaces in these column names will not be changed. In pandas versions < 0.14, spaces were converted to underscores.\n",
      "  chunksize=chunksize, dtype=dtype)\n"
     ]
    }
   ],
   "source": [
    "betweenness =[]\n",
    "for i in range(1990, 2013):\n",
    "    g = create_graph(i,90)\n",
    "    #some metric of graph centrality that we want to measure"
   ]
  },
  {
   "cell_type": "code",
   "execution_count": 48,
   "metadata": {
    "collapsed": false
   },
   "outputs": [
    {
     "data": {
      "image/png": "[encoded data removed]",
      "text/plain": [
       "<matplotlib.figure.Figure at 0x119a1d9b0>"
      ]
     },
     "metadata": {},
     "output_type": "display_data"
    }
   ],
   "source": [
    "G_weighted = nx.from_pandas_dataframe(weighted, 'e1', 'e2', 'weight')\n",
    "nx.draw(G_weighted)"
   ]
  },
  {
   "cell_type": "code",
   "execution_count": null,
   "metadata": {
    "collapsed": true
   },
   "outputs": [],
   "source": []
  }
 ],
 "metadata": {
  "anaconda-cloud": {},
  "kernelspec": {
   "display_name": "Python [conda root]",
   "language": "python",
   "name": "conda-root-py"
  },
  "language_info": {
   "codemirror_mode": {
    "name": "ipython",
    "version": 3
   },
   "file_extension": ".py",
   "mimetype": "text/x-python",
   "name": "python",
   "nbconvert_exporter": "python",
   "pygments_lexer": "ipython3",
   "version": "3.5.2"
  }
 },
 "nbformat": 4,
 "nbformat_minor": 1
}
