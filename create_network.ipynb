{
 "cells": [
  {
   "cell_type": "code",
   "execution_count": 2,
   "metadata": {
    "collapsed": false
   },
   "outputs": [],
   "source": [
    "import pandas as pd\n",
    "import numpy as np\n",
    "import itertools\n",
    "import networkx as nx\n",
    "import sqlite3\n",
    "import matplotlib.pyplot as plt\n",
    "import operator\n",
    "import matplotlib.pyplot as plt\n",
    "%matplotlib inline"
   ]
  },
  {
   "cell_type": "code",
   "execution_count": 3,
   "metadata": {
    "collapsed": true
   },
   "outputs": [],
   "source": [
    "# example for how to create the data frame of people who voted \"yes\" for each bill in 1990\n",
    "votes_yes_1990 = pd.read_csv(\"1990_yes_votes.csv\")\n"
   ]
  },
  {
   "cell_type": "code",
   "execution_count": 4,
   "metadata": {
    "collapsed": true
   },
   "outputs": [],
   "source": [
    "# Given dataframe of people who voted \"yes\" for each bill in each year, generate dictionary for each year:\n",
    "#   params: \n",
    "#       * vote_history -- a pandas df with cols \"bill_number, display_name, first_name, id, last_name, party, state\"\n",
    "#                         representing yes votes from a particular year\n",
    "#                         (could be an entry in the dictionary vote_yes)\n",
    "#   returns:\n",
    "#       * pairs_from_year -- a dictionary pairs_from_year such that \n",
    "#             pairs_from_year[(sen1_id, sen2_id)]= number of times senator1 & senator2 both voted \"yes\" in given year\n",
    "#             sen1_id < sen2_id\n",
    "def gen_pairs_from_vote(vote_history):\n",
    "    pairs_from_year = {}\n",
    "    for name, group in vote_history.groupby(\"bill_number\"):\n",
    "        print('anme', name,group)\n",
    "        pairs_bill = itertools.combinations(group[\"id\"], 2)\n",
    "        for pair in list(pairs_bill):\n",
    "            id1 = min(pair)\n",
    "            id2 = max(pair)\n",
    "            if (id1, id2) in pairs_from_year:\n",
    "                pairs_from_year[(id1, id2)] += 1\n",
    "            else:\n",
    "                pairs_from_year[(id1, id2)] = 1\n",
    "    return pairs_from_year"
   ]
  },
  {
   "cell_type": "code",
   "execution_count": 6,
   "metadata": {
    "collapsed": false
   },
   "outputs": [],
   "source": [
    "# given a year and a threshold of votes to exclude, constructs a weighted graph of senator voting behavior\n",
    "#   params: \n",
    "#       year: year to make graph of\n",
    "#       votes_to_exclude: if a bill has more than threshold votes of yes, we exclude it\n",
    "#   returns:\n",
    "#       weighted graph of senate voting behavior      \n",
    "def create_graph(year, threshold):\n",
    "    csv = str(year) + '_yes_votes.csv'\n",
    "    df = pd.read_csv(csv)\n",
    "    conn = sqlite3.connect(\":memory:\")\n",
    "    df.to_sql('votes', conn, if_exists='replace', index=False)\n",
    "    \n",
    "    #selects all bills with fewer than votes_to_exclude yes votes\n",
    "    query = '''\n",
    "    SELECT * from votes\n",
    "    where bill_number in\n",
    "    (\n",
    "        SELECT bill_number FROM\n",
    "        (\n",
    "            SELECT bill_number, count(1) as num_yes\n",
    "            FROM votes\n",
    "            GROUP BY 1\n",
    "        )\n",
    "        WHERE num_yes <='''+ str(threshold)+'''\n",
    "    )\n",
    "    '''\n",
    "    df_pruned = pd.read_sql_query(query, conn)\n",
    "    df_pruned.to_sql('votes', conn, if_exists='replace', index=False)\n",
    "    query = '''\n",
    "    SELECT e1,e2,count(1)as weight from \n",
    "    (\n",
    "        Select A.display_name as e1, B.display_name as e2 \n",
    "        FROM votes A \n",
    "        JOIN votes B \n",
    "        on (A.bill_number = B.bill_number AND A.display_name != B.display_name)\n",
    "    ) \n",
    "        WHERE e1 < e2\n",
    "        GROUP BY 1,2\n",
    "    '''\n",
    "    weighted = pd.read_sql_query(query, conn)\n",
    "    return nx.from_pandas_dataframe(weighted, 'e1', 'e2', 'weight')\n",
    "    "
   ]
  },
  {
   "cell_type": "code",
   "execution_count": 7,
   "metadata": {
    "collapsed": false
   },
   "outputs": [
    {
     "name": "stderr",
     "output_type": "stream",
     "text": [
      "//anaconda/lib/python2.7/site-packages/pandas/core/generic.py:1201: UserWarning: The spaces in these column names will not be changed. In pandas versions < 0.14, spaces were converted to underscores.\n",
      "  chunksize=chunksize, dtype=dtype)\n"
     ]
    },
    {
     "data": {
      "text/plain": [
       "'Name: \\nType: Graph\\nNumber of nodes: 101\\nNumber of edges: 5024\\nAverage degree:  99.4851'"
      ]
     },
     "execution_count": 7,
     "metadata": {},
     "output_type": "execute_result"
    }
   ],
   "source": [
    "#example on how to use create_graph\n",
    "g1990 = create_graph(1990, 80)\n",
    "nx.info(g1990)"
   ]
  },
  {
   "cell_type": "code",
   "execution_count": 6,
   "metadata": {
    "collapsed": false
   },
   "outputs": [
    {
     "data": {
      "text/plain": [
       "{u'Adams (D-WA)': 0.0,\n",
       " u'Akaka (D-HI)': 0.0,\n",
       " u'Armstrong (R-CO)': 0.14629629629629629,\n",
       " u'Baucus (D-MT)': 0.0,\n",
       " u'Bentsen (D-TX)': 0.0,\n",
       " u'Biden (D-DE)': 0.0,\n",
       " u'Bingaman (D-NM)': 0.0,\n",
       " u'Bond (R-MO)': 0.0,\n",
       " u'Boren (D-OK)': 0.0,\n",
       " u'Boschwitz (R-MN)': 0.0,\n",
       " u'Bradley (D-NJ)': 0.06696969696969694,\n",
       " u'Breaux (D-LA)': 0.0,\n",
       " u'Bryan (D-NV)': 0.0,\n",
       " u'Bumpers (D-AR)': 0.0,\n",
       " u'Burdick (D-ND)': 0.0,\n",
       " u'Burns (R-MT)': 0.0,\n",
       " u'Byrd (D-WV)': 0.0,\n",
       " u'Chafee (R-RI)': 0.0,\n",
       " u'Coats (R-IN)': 0.0,\n",
       " u'Cochran (R-MS)': 0.0,\n",
       " u'Cohen (R-ME)': 0.0,\n",
       " u'Conrad (D-ND)': 0.0,\n",
       " u'Cranston (D-CA)': 0.056127946127946124,\n",
       " u\"D'Amato (R-NY)\": 0.0,\n",
       " u'Danforth (R-MO)': 0.0,\n",
       " u'Daschle (D-SD)': 0.0,\n",
       " u'DeConcini (D-AZ)': 0.0,\n",
       " u'Dixon (D-IL)': 0.0,\n",
       " u'Dodd (D-CT)': 0.0,\n",
       " u'Dole (R-KS)': 0.0,\n",
       " u'Domenici (R-NM)': 0.0,\n",
       " u'Durenberger (R-MN)': 0.0,\n",
       " u'Exon (D-NE)': 0.0,\n",
       " u'Ford (D-KY)': 0.0,\n",
       " u'Fowler (D-GA)': 0.0,\n",
       " u'Garn (R-UT)': 0.0,\n",
       " u'Glenn (D-OH)': 0.0,\n",
       " u'Gore (D-TN)': 0.0,\n",
       " u'Gorton (R-WA)': 0.0,\n",
       " u'Graham (D-FL)': 0.0,\n",
       " u'Gramm (R-TX)': 0.0,\n",
       " u'Grassley (R-IA)': 0.0,\n",
       " u'Harkin (D-IA)': 0.0,\n",
       " u'Hatch (R-UT)': 0.0,\n",
       " u'Hatfield (R-OR)': 0.0,\n",
       " u'Heflin (D-AL)': 0.0,\n",
       " u'Heinz (R-PA)': 0.0,\n",
       " u'Helms (R-NC)': 0.0,\n",
       " u'Hollings (D-SC)': 0.0,\n",
       " u'Humphrey (R-NH)': 0.0,\n",
       " u'Inouye (D-HI)': 0.0,\n",
       " u'Jeffords (R-VT)': 0.0,\n",
       " u'Johnston (D-LA)': 0.0,\n",
       " u'Kassebaum (R-KS)': 0.0,\n",
       " u'Kasten (R-WI)': 0.0,\n",
       " u'Kennedy (D-MA)': 0.05107744107744105,\n",
       " u'Kerrey (D-NE)': 0.0,\n",
       " u'Kerry (D-MA)': 0.0454882154882154,\n",
       " u'Kohl (D-WI)': 0.0,\n",
       " u'Lautenberg (D-NJ)': 0.0,\n",
       " u'Leahy (D-VT)': 0.0,\n",
       " u'Levin (D-MI)': 0.0,\n",
       " u'Lieberman (D-CT)': 0.0,\n",
       " u'Lott (R-MS)': 0.0,\n",
       " u'Lugar (R-IN)': 0.0,\n",
       " u'Mack (R-FL)': 0.0,\n",
       " u'Matsunaga (D-HI)': 0.9202356902356903,\n",
       " u'McCain (R-AZ)': 0.0,\n",
       " u'McClure (R-ID)': 0.0,\n",
       " u'McConnell (R-KY)': 0.0,\n",
       " u'Metzenbaum (D-OH)': 0.055016835016834964,\n",
       " u'Mikulski (D-MD)': 0.0,\n",
       " u'Mitchell (D-ME)': 0.0,\n",
       " u'Moynihan (D-NY)': 0.0,\n",
       " u'Murkowski (R-AK)': 0.0,\n",
       " u'Nickles (R-OK)': 0.0,\n",
       " u'Nunn (D-GA)': 0.0,\n",
       " u'Packwood (R-OR)': 0.0,\n",
       " u'Pell (D-RI)': 0.0,\n",
       " u'Pressler (R-SD)': 0.0,\n",
       " u'Pryor (D-AR)': 0.0,\n",
       " u'Reid (D-NV)': 0.0,\n",
       " u'Riegle (D-MI)': 0.0,\n",
       " u'Robb (D-VA)': 0.0,\n",
       " u'Rockefeller (D-WV)': 0.0,\n",
       " u'Roth (R-DE)': 0.0,\n",
       " u'Rudman (R-NH)': 0.0,\n",
       " u'Sanford (D-NC)': 0.0,\n",
       " u'Sarbanes (D-MD)': 0.0,\n",
       " u'Sasser (D-TN)': 0.0,\n",
       " u'Shelby (D-AL)': 0.0,\n",
       " u'Simon (D-IL)': 0.0,\n",
       " u'Simpson (R-WY)': 0.0,\n",
       " u'Specter (R-PA)': 0.0,\n",
       " u'Stevens (R-AK)': 0.0,\n",
       " u'Symms (R-ID)': 0.0,\n",
       " u'Thurmond (R-SC)': 0.0,\n",
       " u'Wallop (R-WY)': 0.0,\n",
       " u'Warner (R-VA)': 0.0,\n",
       " u'Wilson (R-CA)': 0.0,\n",
       " u'Wirth (D-CO)': 0.0004713804713804713}"
      ]
     },
     "execution_count": 6,
     "metadata": {},
     "output_type": "execute_result"
    }
   ],
   "source": [
    "# potential issue: the betweenness centralities seem to be the same for EVERYONE. \n",
    "# same results after playing with threshold\n",
    "nx.degree_centrality(g1990)\n",
    "nx.betweenness_centrality(g1990, weight='weight')"
   ]
  },
  {
   "cell_type": "code",
   "execution_count": 17,
   "metadata": {
    "collapsed": false
   },
   "outputs": [
    {
     "name": "stdout",
     "output_type": "stream",
     "text": [
      "{1989: 0.2674362674362674, 1990: 0.9203030303030303, 1991: 0.9933333333333333, 1992: 0.7576767676767677, 1993: 0.5474074074074075, 1994: 0.2804232804232804, 1995: 0.9531144781144784, 1996: 0.2520875420875421, 1997: 0.16364323507180648, 1998: 0.18563182848897133, 1999: 0.9921212121212121, 2000: 0.7368686868686869, 2001: 0.181026936026936, 2002: 0.9985858585858586, 2003: 0.7543805400948259, 2004: 0.9793547722119149, 2005: 0.33089397375111657, 2006: 0.16439909297052152, 2007: 0.4230000000000001, 2008: 0.6708238851095992, 2009: 0.8501463021105877, 2010: 0.7677257074101737, 2011: 0.8853232323232322, 2012: 0.7340410911839483}\n"
     ]
    }
   ],
   "source": [
    "# max betweenness centrality over time\n",
    "max_bets_over_time = {} # key: year, value: max betweenness score\n",
    "for i in range(1989, 2013):\n",
    "    g = create_graph(i,85)\n",
    "    bets = nx.betweenness_centrality(g, weight='weight')\n",
    "    max_bet = max(bets.iterkeys(), key=(lambda key: bets[key]))\n",
    "    max_bets_over_time[i] = bets[max_bet]\n",
    "\n",
    "print(max_bets_over_time)"
   ]
  },
  {
   "cell_type": "code",
   "execution_count": 19,
   "metadata": {
    "collapsed": false
   },
   "outputs": [
    {
     "data": {
      "text/plain": [
       "[<matplotlib.lines.Line2D at 0x128865810>]"
      ]
     },
     "execution_count": 19,
     "metadata": {},
     "output_type": "execute_result"
    },
    {
     "data": {
      "image/png": "[encoded data removed]",
      "text/plain": [
       "<matplotlib.figure.Figure at 0x127de1710>"
      ]
     },
     "metadata": {},
     "output_type": "display_data"
    }
   ],
   "source": [
    "plt.plot(max_bets_over_time.values())"
   ]
  },
  {
   "cell_type": "code",
   "execution_count": 22,
   "metadata": {
    "collapsed": false
   },
   "outputs": [
    {
     "name": "stdout",
     "output_type": "stream",
     "text": [
      "{1989: 0.0042383013811585239, 1990: 0.013249158249158248, 1991: 0.010005000500050005, 1992: 0.01321032103210321, 1993: 0.012159882654932161, 1994: 0.004866694152408437, 1995: 0.01088708870887089, 1996: 0.0064836483648364829, 1997: 0.0049261320689892108, 1998: 0.0053099017384731668, 1999: 0.010145014501450146, 2000: 0.0082226555988932221, 2001: 0.0053713704703803712, 2002: 0.010463046304630463, 2003: 0.014272314986600698, 2004: 0.010257644471930186, 2005: 0.0061282896997182715, 2006: 0.0049974232117089255, 2007: 0.012230956428976234, 2008: 0.013649419363705076, 2009: 0.016373618145855341, 2010: 0.014820771641159997, 2011: 0.011251825182518249, 2012: 0.010397512540369682}\n"
     ]
    }
   ],
   "source": [
    "# average betweenness centrality over time\n",
    "avg_bets_over_time = {} # key: year, value: max betweenness score\n",
    "for i in range(1989, 2013):\n",
    "    g = create_graph(i,85)\n",
    "    bets = nx.betweenness_centrality(g, weight='weight')\n",
    "    avg_bet = np.sum(bets.values()) / len(bets)\n",
    "    avg_bets_over_time[i] = avg_bet\n",
    "\n",
    "print(avg_bets_over_time)"
   ]
  },
  {
   "cell_type": "code",
   "execution_count": 24,
   "metadata": {
    "collapsed": false
   },
   "outputs": [
    {
     "data": {
      "text/plain": [
       "[<matplotlib.lines.Line2D at 0x125c2cf10>]"
      ]
     },
     "execution_count": 24,
     "metadata": {},
     "output_type": "execute_result"
    },
    {
     "data": {
      "image/png": "[encoded data removed]",
      "text/plain": [
       "<matplotlib.figure.Figure at 0x12888b750>"
      ]
     },
     "metadata": {},
     "output_type": "display_data"
    }
   ],
   "source": [
    "plt.plot(avg_bets_over_time.values())"
   ]
  },
  {
   "cell_type": "code",
   "execution_count": 42,
   "metadata": {
    "collapsed": false
   },
   "outputs": [
    {
     "data": {
      "text/plain": [
       "[<matplotlib.lines.Line2D at 0x1267e2690>]"
      ]
     },
     "execution_count": 42,
     "metadata": {},
     "output_type": "execute_result"
    },
    {
     "data": {
      "image/png": "[encoded data removed]",
      "text/plain": [
       "<matplotlib.figure.Figure at 0x12898dcd0>"
      ]
     },
     "metadata": {},
     "output_type": "display_data"
    }
   ],
   "source": [
    "# plot a particular year's betwenness distribution\n",
    "year = 1991\n",
    "g = create_graph(year,85)\n",
    "bets = nx.betweenness_centrality(g, weight='weight')\n",
    "plt.plot(sorted(bets.values()))\n"
   ]
  },
  {
   "cell_type": "code",
   "execution_count": 1,
   "metadata": {
    "collapsed": false
   },
   "outputs": [
    {
     "ename": "NameError",
     "evalue": "name 'create_graph' is not defined",
     "output_type": "error",
     "traceback": [
      "\u001b[0;31m---------------------------------------------------------------------------\u001b[0m",
      "\u001b[0;31mNameError\u001b[0m                                 Traceback (most recent call last)",
      "\u001b[0;32m<ipython-input-1-c32f846bc278>\u001b[0m in \u001b[0;36m<module>\u001b[0;34m()\u001b[0m\n\u001b[1;32m      1\u001b[0m \u001b[0;31m# plot a particular year's eigenvector centrality distribution\u001b[0m\u001b[0;34m\u001b[0m\u001b[0;34m\u001b[0m\u001b[0m\n\u001b[1;32m      2\u001b[0m \u001b[0myear\u001b[0m \u001b[0;34m=\u001b[0m \u001b[0;36m2003\u001b[0m\u001b[0;34m\u001b[0m\u001b[0m\n\u001b[0;32m----> 3\u001b[0;31m \u001b[0mg\u001b[0m \u001b[0;34m=\u001b[0m \u001b[0mcreate_graph\u001b[0m\u001b[0;34m(\u001b[0m\u001b[0myear\u001b[0m\u001b[0;34m,\u001b[0m\u001b[0;36m85\u001b[0m\u001b[0;34m)\u001b[0m\u001b[0;34m\u001b[0m\u001b[0m\n\u001b[0m\u001b[1;32m      4\u001b[0m \u001b[0meigs\u001b[0m \u001b[0;34m=\u001b[0m \u001b[0mnx\u001b[0m\u001b[0;34m.\u001b[0m\u001b[0meigenvector_centrality\u001b[0m\u001b[0;34m(\u001b[0m\u001b[0mg\u001b[0m\u001b[0;34m,\u001b[0m \u001b[0mweight\u001b[0m\u001b[0;34m=\u001b[0m\u001b[0;34m'weight'\u001b[0m\u001b[0;34m)\u001b[0m\u001b[0;34m\u001b[0m\u001b[0m\n\u001b[1;32m      5\u001b[0m \u001b[0mplt\u001b[0m\u001b[0;34m.\u001b[0m\u001b[0mplot\u001b[0m\u001b[0;34m(\u001b[0m\u001b[0msorted\u001b[0m\u001b[0;34m(\u001b[0m\u001b[0meigs\u001b[0m\u001b[0;34m.\u001b[0m\u001b[0mvalues\u001b[0m\u001b[0;34m(\u001b[0m\u001b[0;34m)\u001b[0m\u001b[0;34m)\u001b[0m\u001b[0;34m)\u001b[0m\u001b[0;34m\u001b[0m\u001b[0m\n",
      "\u001b[0;31mNameError\u001b[0m: name 'create_graph' is not defined"
     ]
    }
   ],
   "source": [
    "# plot a particular year's eigenvector centrality distribution\n",
    "year = 2003\n",
    "g = create_graph(year,85)\n",
    "eigs = nx.eigenvector_centrality(g, weight='weight')\n",
    "plt.plot(sorted(eigs.values()))"
   ]
  },
  {
   "cell_type": "code",
   "execution_count": 13,
   "metadata": {
    "collapsed": false
   },
   "outputs": [],
   "source": [
    "gephi_graph_1990 = nx.write_graphml(g1990, \"gephi_1990.graphml\")"
   ]
  },
  {
   "cell_type": "code",
   "execution_count": 31,
   "metadata": {
    "collapsed": true
   },
   "outputs": [],
   "source": [
    "g1989 = create_graph(1989, 70)\n",
    "g1989_parties = create_party_dictionary(g1989)\n",
    "nx.set_node_attributes(g1989, \"party\", g1989_parties)"
   ]
  },
  {
   "cell_type": "code",
   "execution_count": 30,
   "metadata": {
    "collapsed": false
   },
   "outputs": [],
   "source": [
    "# add D/R to each of the nodes\n",
    "def create_party_dictionary(graph):\n",
    "    party_dictionary = {}\n",
    "    for n in nx.nodes(g1989):\n",
    "        party = n.split(\"(\")[1].split(\"-\")[0]\n",
    "        party_dictionary[n] = party\n",
    "    return(party_dictionary)"
   ]
  },
  {
   "cell_type": "code",
   "execution_count": 32,
   "metadata": {
    "collapsed": true
   },
   "outputs": [],
   "source": [
    "gephi_graph_1989 = nx.write_graphml(g1989, \"gephi_1989.graphml\")"
   ]
  },
  {
   "cell_type": "code",
   "execution_count": 37,
   "metadata": {
    "collapsed": false
   },
   "outputs": [],
   "source": [
    "g2010 = create_graph(2010, 80)\n",
    "#g2010_parties = create_party_dictionary(g2010)\n",
    "#nx.set_node_attributes(g2010, \"party\", g2010_parties)\n",
    "gephi_graph_2010 = nx.write_graphml(g2010, \"gephi_2013.graphml\")"
   ]
  },
  {
   "cell_type": "code",
   "execution_count": null,
   "metadata": {
    "collapsed": true
   },
   "outputs": [],
   "source": []
  }
 ],
 "metadata": {
  "anaconda-cloud": {},
  "kernelspec": {
   "display_name": "Python 2",
   "language": "python",
   "name": "python2"
  },
  "language_info": {
   "codemirror_mode": {
    "name": "ipython",
    "version": 2
   },
   "file_extension": ".py",
   "mimetype": "text/x-python",
   "name": "python",
   "nbconvert_exporter": "python",
   "pygments_lexer": "ipython2",
   "version": "2.7.12"
  }
 },
 "nbformat": 4,
 "nbformat_minor": 1
}
